{
  "cells": [
    {
      "cell_type": "code",
      "execution_count": 1,
      "metadata": {
        "id": "JTUvgGkCj8rK"
      },
      "outputs": [],
      "source": [
        "import statistics\n",
        "import cv2\n",
        "import pandas as pd\n",
        "def compute_psnr(object_to_compare, original_object, second_type, original_type):\n",
        "  numbers = [1, 3, 4, 5, 6, 8, 9, 10, 13, 14, 15, 16, 17, 18]\n",
        "  hd_array = [1, 2, 4, 6, 8, 16, 32, 64, 128]\n",
        "\n",
        "  data = { \"hd1\" :[],\n",
        "         \"hd2\" :[],\n",
        "         \"hd4\" :[],\n",
        "         \"hd6\" : [],\n",
        "         \"hd8\" : [],\n",
        "         \"hd16\": [],\n",
        "         \"hd32\" : [],\n",
        "         \"hd64\" :[],\n",
        "         \"hd128\" :[],\n",
        "  }\n",
        "\n",
        "  for hd in hd_array:\n",
        "    sum = 0\n",
        "    for i in numbers:\n",
        "      img1 = cv2.imread(\"Segmented_images/hd{:d}/{}/{}/0000{:02d}-img.jpg\".format(hd, original_object, original_type, i))\n",
        "      img2 = cv2.imread(\"Segmented_images/hd{:d}/{}/{}/0000{:02d}-img.jpg\".format(hd, object_to_compare, second_type, i))\n",
        "      psnr = cv2.PSNR(img1, img2)\n",
        "      data[\"hd{:d}\".format(hd)].append(psnr)\n",
        "      sum += psnr\n",
        "    average = sum / 14\n",
        "    standard_deviation = statistics.stdev(data[\"hd{:d}\".format(hd)])\n",
        "    data[\"hd{:d}\".format(hd)].append(average)\n",
        "    data[\"hd{:d}\".format(hd)].append(standard_deviation)\n",
        "    average_data[\"masked_{}_{}_compared_to_{}_{}\".format(second_type, object_to_compare, original_type, original_object)].append(average)\n",
        "    std_dev_data[\"masked_{}_{}_compared_to_{}_{}\".format(second_type, object_to_compare, original_type, original_object)].append(standard_deviation)\n",
        "\n",
        "  df = pd.DataFrame(data, index=['1', '3', '4', '5', '6', '8', '9', '10', '13', '14', '15', '16', '17', '18', 'average', 'standard_deviation'])\n",
        "\n",
        "\n",
        "  df.to_csv(\"psnr/masked_{}_{}_compared_to_{}_{}.csv\".format(second_type, object_to_compare, original_type, original_object))\n",
        "\n"
      ]
    },
    {
      "cell_type": "code",
      "execution_count": 2,
      "metadata": {
        "id": "tLhKdaBUkZsC"
      },
      "outputs": [],
      "source": [
        "!mkdir psnr"
      ]
    },
    {
      "cell_type": "code",
      "execution_count": 3,
      "metadata": {
        "id": "9cs8vgkYkQdo"
      },
      "outputs": [],
      "source": [
        "average_data = {\n",
        "    \"masked_reconstructed_wheel_compared_to_original_wheel\" :[],\n",
        "    \"masked_reconstructed_bulldozer_compared_to_reconstructed_wheel\" :[],\n",
        "    \"masked_reconstructed_bulldozer_compared_to_original_wheel\" :[],\n",
        "    \"masked_reconstructed_bulldozer_compared_to_original_bulldozer\" :[]\n",
        "}\n",
        "\n",
        "std_dev_data = {\n",
        "    \"masked_reconstructed_wheel_compared_to_original_wheel\" :[],\n",
        "    \"masked_reconstructed_bulldozer_compared_to_reconstructed_wheel\" :[],\n",
        "    \"masked_reconstructed_bulldozer_compared_to_original_wheel\" :[],\n",
        "    \"masked_reconstructed_bulldozer_compared_to_original_bulldozer\" :[]\n",
        "}\n",
        "\n",
        "compute_psnr(\"wheel\", \"wheel\", \"reconstructed\", \"original\")\n",
        "compute_psnr(\"bulldozer\", \"wheel\", \"reconstructed\", \"original\")\n",
        "compute_psnr(\"bulldozer\", \"bulldozer\", \"reconstructed\", \"original\")\n",
        "compute_psnr(\"bulldozer\", \"wheel\", \"reconstructed\", \"reconstructed\")\n",
        "\n",
        "\n",
        "average_df = pd.DataFrame(average_data, index=['hd1', 'hd2', 'hd4', 'hd6', 'hd8', 'hd16', 'hd32', 'hd64', 'hd128'])\n",
        "\n",
        "average_df.to_csv(\"psnr/average_psnr_overview.csv\")\n",
        "\n",
        "std_dev_df = pd.DataFrame(std_dev_data, index=['hd1', 'hd2', 'hd4', 'hd6', 'hd8', 'hd16', 'hd32', 'hd64', 'hd128'])\n",
        "std_dev_df.to_csv(\"psnr/std_dev.csv\")"
      ]
    }
  ],
  "metadata": {
    "colab": {
      "provenance": []
    },
    "kernelspec": {
      "display_name": "Python 3",
      "name": "python3"
    },
    "language_info": {
      "name": "python"
    }
  },
  "nbformat": 4,
  "nbformat_minor": 0
}
