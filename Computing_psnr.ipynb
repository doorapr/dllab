{
  "nbformat": 4,
  "nbformat_minor": 0,
  "metadata": {
    "colab": {
      "provenance": []
    },
    "kernelspec": {
      "name": "python3",
      "display_name": "Python 3"
    },
    "language_info": {
      "name": "python"
    }
  },
  "cells": [
    {
      "cell_type": "code",
      "execution_count": 1,
      "metadata": {
        "id": "JTUvgGkCj8rK"
      },
      "outputs": [],
      "source": [
        "import cv2\n",
        "import pandas as pd\n",
        "def compute_psnr(object_to_compare, original_object, second_type, original_type):\n",
        "  numbers = [1, 3, 4, 5, 6, 8, 9, 10, 13, 14, 15, 16, 17, 18]\n",
        "  hd_array = [1, 2, 4, 8, 16, 32, 64, 128]\n",
        "\n",
        "  data = { \"hd1\" :[],\n",
        "        \"hd2\" :[],\n",
        "         \"hd4\" :[],\n",
        "         \"hd8\" : [],\n",
        "         \"hd16\": [],\n",
        "         \"hd32\" : [],\n",
        "         \"hd64\" :[],\n",
        "         \"hd128\" :[],\n",
        "  }\n",
        "\n",
        "  for hd in hd_array:\n",
        "    sum = 0\n",
        "    for i in numbers:\n",
        "      img1 = cv2.imread(\"Segmented_images/hd{:d}/{}/{}/0000{:02d}-img.jpg\".format(hd, original_object, original_type, i))\n",
        "      img2 = cv2.imread(\"Segmented_images/hd{:d}/{}/{}/0000{:02d}-img.jpg\".format(hd, object_to_compare, second_type, i))\n",
        "      psnr = cv2.PSNR(img1, img2)\n",
        "      data[\"hd{:d}\".format(hd)].append(psnr)\n",
        "      sum += psnr\n",
        "    sum /= 14\n",
        "    data[\"hd{:d}\".format(hd)].append(sum)\n",
        "  df = pd.DataFrame(data, index=['1', '3', '4', '5', '6', '8', '9', '10', '13', '14', '15', '16', '17', '18', 'average'])\n",
        "\n",
        "\n",
        "  df.to_csv(\"psnr/masked_{}_{}_compared_to_{}_{}.csv\".format(second_type, object_to_compare, original_type, original_object))\n",
        "\n"
      ]
    },
    {
      "cell_type": "code",
      "source": [
        "!mkdir psnr"
      ],
      "metadata": {
        "id": "tLhKdaBUkZsC"
      },
      "execution_count": 2,
      "outputs": []
    },
    {
      "cell_type": "code",
      "source": [
        "compute_psnr(\"wheel\", \"wheel\", \"reconstructed\", \"original\")\n",
        "compute_psnr(\"bulldozer\", \"wheel\", \"reconstructed\", \"original\")\n",
        "compute_psnr(\"bulldozer\", \"bulldozer\", \"reconstructed\", \"original\")\n",
        "compute_psnr(\"bulldozer\", \"wheel\", \"reconstructed\", \"reconstructed\")"
      ],
      "metadata": {
        "id": "9cs8vgkYkQdo"
      },
      "execution_count": 3,
      "outputs": []
    }
  ]
}