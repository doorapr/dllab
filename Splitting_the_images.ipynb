{
  "cells": [
    {
      "cell_type": "code",
      "execution_count": null,
      "metadata": {
        "id": "tluOMHMB6fw1"
      },
      "outputs": [],
      "source": [
        "#The function does the split of pictures into two: original and reconstructed\n",
        "def split(wheel, i, hd):\n",
        "  if wheel:\n",
        "    image = cv2.imread('Split_images/hd{:d}/wheel/0000{:02d}-img.jpg'.format(hd, i))\n",
        "  else:\n",
        "    image = cv2.imread('Split_images/hd{:d}/bulldozer/0000{:02d}-img.jpg'.format(hd, i))\n",
        "  height = image.shape[0]\n",
        "  width = image.shape[1]\n",
        "\n",
        "# Cut the image in half\n",
        "  width_cutoff = width // 2\n",
        "  s1 = image[:, :width_cutoff]\n",
        "  s2 = image[:, width_cutoff:]\n",
        "  if (wheel):\n",
        "    cv2.imwrite(\"Split_images/hd{:d}/wheel/cropped_original/0000{:02d}-img.jpg\".format(hd, i), s1)\n",
        "    cv2.imwrite(\"Split_images/hd{:d}/wheel/cropped_reconstructed/0000{:02d}-img.jpg\".format(hd, i), s2)\n",
        "  else:\n",
        "    cv2.imwrite(\"Split_images/hd{:d}/bulldozer/cropped_original/0000{:02d}-img.jpg\".format(hd, i), s1)\n",
        "    cv2.imwrite(\"Split_images/hd{:d}/bulldozer/cropped_reconstructed/0000{:02d}-img.jpg\".format(hd, i), s2)"
      ]
    },
    {
      "cell_type": "code",
      "execution_count": null,
      "metadata": {
        "id": "82OhQiY_6nq2"
      },
      "outputs": [],
      "source": [
        "#Do the splitting for the images of following numbers and hidden dimensions\n",
        "numbers = [1, 3, 4, 5, 6, 8, 9, 10, 13, 14, 15, 16, 17, 18]\n",
        "hd_array = [1, 2, 4, 6, 8, 16, 32, 64, 128]\n",
        "for j in hd_array:\n",
        "  for i in numbers:\n",
        "    split(True, i, j)\n",
        "    split(False, i, j)\n"
      ]
    }
  ],
  "metadata": {
    "colab": {
      "provenance": []
    },
    "kernelspec": {
      "display_name": "Python 3",
      "name": "python3"
    },
    "language_info": {
      "name": "python"
    }
  },
  "nbformat": 4,
  "nbformat_minor": 0
}
