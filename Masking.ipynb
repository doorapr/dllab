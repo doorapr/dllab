{
  "nbformat": 4,
  "nbformat_minor": 0,
  "metadata": {
    "colab": {
      "provenance": [],
      "gpuType": "T4",
      "include_colab_link": true
    },
    "kernelspec": {
      "name": "python3",
      "display_name": "Python 3"
    },
    "language_info": {
      "name": "python"
    },
    "accelerator": "GPU"
  },
  "cells": [
    {
      "cell_type": "markdown",
      "metadata": {
        "id": "view-in-github",
        "colab_type": "text"
      },
      "source": [
        "<a href=\"https://colab.research.google.com/github/doorapr/dllab/blob/main/Masking.ipynb\" target=\"_parent\"><img src=\"https://colab.research.google.com/assets/colab-badge.svg\" alt=\"Open In Colab\"/></a>"
      ]
    },
    {
      "cell_type": "code",
      "source": [
        "import torch\n",
        "import torchvision\n",
        "import sys\n",
        "!{sys.executable} -m pip install opencv-python matplotlib\n",
        "!{sys.executable} -m pip install 'git+https://github.com/facebookresearch/segment-anything.git'\n",
        "\n",
        "!wget https://dl.fbaipublicfiles.com/segment_anything/sam_vit_h_4b8939.pth\n"
      ],
      "metadata": {
        "id": "6-ae9MOm_Gcg"
      },
      "execution_count": null,
      "outputs": []
    },
    {
      "cell_type": "code",
      "source": [
        "import numpy as np\n",
        "import torch\n",
        "import matplotlib.pyplot as plt\n",
        "import cv2\n",
        "from numpy import loadtxt"
      ],
      "metadata": {
        "id": "93mgbvKt_uqb"
      },
      "execution_count": null,
      "outputs": []
    },
    {
      "cell_type": "code",
      "source": [
        "import sys\n",
        "sys.path.append(\"..\")\n",
        "from segment_anything import sam_model_registry, SamPredictor\n",
        "\n",
        "sam_checkpoint = \"sam_vit_h_4b8939.pth\"\n",
        "model_type = \"vit_h\"\n",
        "\n",
        "device = \"cuda\"\n",
        "\n",
        "sam = sam_model_registry[model_type](checkpoint=sam_checkpoint)\n",
        "sam.to(device=device)\n",
        "\n",
        "predictor = SamPredictor(sam)"
      ],
      "metadata": {
        "id": "aNUFvT76_0eA"
      },
      "execution_count": null,
      "outputs": []
    },
    {
      "cell_type": "code",
      "source": [
        "def masking(image, masks):\n",
        "  h,w,bpp = np.shape(image)\n",
        "  newimage = image.copy()\n",
        "\n",
        "  for py in range(0,h):\n",
        "      for px in range(0,w):\n",
        "#can change the below logic of rgb according to requirements. In this\n",
        "#white background is changed to #e8e8e8  corresponding to 232,232,232\n",
        "#intensity, red color of the image is retained.\n",
        "          if(masks[0][py][px] == False):\n",
        "              newimage[py][px][0]=225\n",
        "              newimage[py][px][1]=225\n",
        "              newimage[py][px][2]=225\n",
        "  #newimage=cv2.cvtColor(newimage, cv2.COLOR_BGR2RGB)\n",
        "  return newimage"
      ],
      "metadata": {
        "id": "jPpbbOe9A2CM"
      },
      "execution_count": null,
      "outputs": []
    },
    {
      "cell_type": "code",
      "source": [
        "def mask_all(hd, i):\n",
        "  #image = cv2.imread(\"Split_images/hd{:d}/wheel/cropped_original/0000{:02d}-img.jpg\".format(hd, i))\n",
        "  image = cv2.imread(\"Split_images/hd{:d}/wheel/cropped_original/0000{:02d}-img.jpg\".format(hd, i))\n",
        "\n",
        "\n",
        "  index1=loadtxt(f'index1_{i}.csv', delimiter=',')\n",
        "  index2=loadtxt(f'index2_{i}.csv', delimiter=',')\n",
        "  h,w,bpp = np.shape(image)\n",
        "  newimage = image.copy()\n",
        "  predictor.set_image(newimage)\n",
        "\n",
        "  input_point = np.array([index1])\n",
        "  input_label = np.array([1])\n",
        "\n",
        "\n",
        "  masks, scores, logits = predictor.predict(\n",
        "    point_coords=input_point,\n",
        "    point_labels=input_label,\n",
        "    multimask_output=True,\n",
        ")\n",
        "\n",
        "\n",
        "  input_point = np.array([index1,index2])\n",
        "  input_label = np.array([1, 1])\n",
        "  mask_input = logits[np.argmax(scores), :, :]\n",
        "\n",
        "  masks, _, _ = predictor.predict(\n",
        "    point_coords=input_point,\n",
        "    point_labels=input_label,\n",
        "    mask_input=mask_input[None, :, :],\n",
        "    multimask_output=False,\n",
        ")\n",
        "\n",
        "\n",
        "\n",
        "  # Add function\n",
        "  img = masking(newimage, masks)\n",
        "  cv2.imwrite('Split_images/hd{:d}/wheel/segmented_original/0000{:02d}-img.jpg'.format(hd, i), img)\n",
        "\n",
        "  image1 = cv2.imread(\"Split_images/hd{:d}/wheel/cropped_reconstructed/0000{:02d}-img.jpg\".format(hd, i))\n",
        "  img = masking(image1, masks)\n",
        "  cv2.imwrite('Split_images/hd{:d}/wheel/segmented_reconstructed/0000{:02d}-img.jpg'.format(hd, i), img)\n",
        "\n",
        "\n",
        "  image2 = cv2.imread(\"Split_images/hd{:d}/bulldozer/cropped_reconstructed/0000{:02d}-img.jpg\".format(hd, i))\n",
        "  img = masking(image2, masks)\n",
        "  cv2.imwrite('Split_images/hd{:d}/bulldozer/segmented_reconstructed/0000{:02d}-img.jpg'.format(hd, i), img)\n",
        "\n",
        "  image3 = cv2.imread(\"Split_images/hd{:d}/bulldozer/cropped_original/0000{:02d}-img.jpg\".format(hd, i))\n",
        "  img = masking(image3, masks)\n",
        "  cv2.imwrite('Split_images/hd{:d}/bulldozer/segmented_original/0000{:02d}-img.jpg'.format(hd, i), img)\n",
        "  return"
      ],
      "metadata": {
        "id": "RMoHesW0AwHE"
      },
      "execution_count": null,
      "outputs": []
    },
    {
      "cell_type": "code",
      "source": [
        "numbers = [1, 3, 4, 5, 6, 8, 9, 10, 13, 14, 15, 16, 17, 18]\n",
        "hd = 8\n",
        "hd_array = [1, 2, 4, 8, 16, 32, 64, 128]\n",
        "\n",
        "for j in hd_array:\n",
        "  for i in numbers:\n",
        "    mask_all(j, i)"
      ],
      "metadata": {
        "colab": {
          "base_uri": "https://localhost:8080/",
          "height": 225
        },
        "id": "4s8GEW--AKIj",
        "outputId": "bc7f387c-22f7-434a-de57-1f9658eed880"
      },
      "execution_count": null,
      "outputs": [
        {
          "output_type": "error",
          "ename": "NameError",
          "evalue": "name 'mask_all' is not defined",
          "traceback": [
            "\u001b[0;31m---------------------------------------------------------------------------\u001b[0m",
            "\u001b[0;31mNameError\u001b[0m                                 Traceback (most recent call last)",
            "\u001b[0;32m<ipython-input-3-414cff3a33a4>\u001b[0m in \u001b[0;36m<cell line: 5>\u001b[0;34m()\u001b[0m\n\u001b[1;32m      5\u001b[0m \u001b[0;32mfor\u001b[0m \u001b[0mj\u001b[0m \u001b[0;32min\u001b[0m \u001b[0mhd_array\u001b[0m\u001b[0;34m:\u001b[0m\u001b[0;34m\u001b[0m\u001b[0;34m\u001b[0m\u001b[0m\n\u001b[1;32m      6\u001b[0m   \u001b[0;32mfor\u001b[0m \u001b[0mi\u001b[0m \u001b[0;32min\u001b[0m \u001b[0mnumbers\u001b[0m\u001b[0;34m:\u001b[0m\u001b[0;34m\u001b[0m\u001b[0;34m\u001b[0m\u001b[0m\n\u001b[0;32m----> 7\u001b[0;31m     \u001b[0mmask_all\u001b[0m\u001b[0;34m(\u001b[0m\u001b[0mj\u001b[0m\u001b[0;34m,\u001b[0m \u001b[0mi\u001b[0m\u001b[0;34m)\u001b[0m\u001b[0;34m\u001b[0m\u001b[0;34m\u001b[0m\u001b[0m\n\u001b[0m",
            "\u001b[0;31mNameError\u001b[0m: name 'mask_all' is not defined"
          ]
        }
      ]
    }
  ]
}