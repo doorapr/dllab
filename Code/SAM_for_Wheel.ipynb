{
  "nbformat": 4,
  "nbformat_minor": 0,
  "metadata": {
    "colab": {
      "provenance": []
    },
    "kernelspec": {
      "name": "python3",
      "display_name": "Python 3"
    },
    "language_info": {
      "name": "python"
    }
  },
  "cells": [
    {
      "cell_type": "code",
      "execution_count": null,
      "metadata": {
        "id": "y4d14dD_aPtp"
      },
      "outputs": [],
      "source": [
        "from IPython.display import display, HTML\n",
        "display(HTML(\n",
        "\"\"\"\n",
        "<a target=\"_blank\" href=\"https://colab.research.google.com/github/facebookresearch/segment-anything/blob/main/notebooks/predictor_example.ipynb\">\n",
        "  <img src=\"https://colab.research.google.com/assets/colab-badge.svg\" alt=\"Open In Colab\"/>\n",
        "</a>\n",
        "\"\"\"\n",
        "))"
      ]
    },
    {
      "cell_type": "code",
      "source": [
        "using_colab = True\n"
      ],
      "metadata": {
        "id": "Ax2om2JXahKN"
      },
      "execution_count": null,
      "outputs": []
    },
    {
      "cell_type": "code",
      "source": [
        "if using_colab:\n",
        "    import torch\n",
        "    import torchvision\n",
        "    print(\"PyTorch version:\", torch.__version__)\n",
        "    print(\"Torchvision version:\", torchvision.__version__)\n",
        "    print(\"CUDA is available:\", torch.cuda.is_available())\n",
        "    import sys\n",
        "    !{sys.executable} -m pip install opencv-python matplotlib\n",
        "    !{sys.executable} -m pip install 'git+https://github.com/facebookresearch/segment-anything.git'\n",
        "\n",
        "    !mkdir images\n",
        "    !wget -P images https://raw.githubusercontent.com/facebookresearch/segment-anything/main/notebooks/images/truck.jpg\n",
        "    !wget -P images https://raw.githubusercontent.com/facebookresearch/segment-anything/main/notebooks/images/groceries.jpg\n",
        "\n",
        "    !wget https://dl.fbaipublicfiles.com/segment_anything/sam_vit_h_4b8939.pth"
      ],
      "metadata": {
        "id": "6sLTkEnuaqN9"
      },
      "execution_count": null,
      "outputs": []
    },
    {
      "cell_type": "code",
      "source": [
        "import numpy as np\n",
        "import torch\n",
        "import matplotlib.pyplot as plt\n",
        "import cv2"
      ],
      "metadata": {
        "id": "bSY2JAEgaxJa"
      },
      "execution_count": null,
      "outputs": []
    },
    {
      "cell_type": "code",
      "source": [
        "def show_mask(mask, ax, random_color=False):\n",
        "    if random_color:\n",
        "        color = np.concatenate([np.random.random(3), np.array([0.6])], axis=0)\n",
        "    else:\n",
        "        color = np.array([30/255, 144/255, 255/255, 0.6])\n",
        "    h, w = mask.shape[-2:]\n",
        "    mask_image = mask.reshape(h, w, 1) * color.reshape(1, 1, -1)\n",
        "    ax.imshow(mask_image)\n",
        "\n",
        "def show_points(coords, labels, ax, marker_size=375):\n",
        "    pos_points = coords[labels==1]\n",
        "    neg_points = coords[labels==0]\n",
        "    ax.scatter(pos_points[:, 0], pos_points[:, 1], color='green', marker='*', s=marker_size, edgecolor='white', linewidth=1.25)\n",
        "    ax.scatter(neg_points[:, 0], neg_points[:, 1], color='red', marker='*', s=marker_size, edgecolor='white', linewidth=1.25)\n",
        "\n",
        "def show_box(box, ax):\n",
        "    x0, y0 = box[0], box[1]\n",
        "    w, h = box[2] - box[0], box[3] - box[1]\n",
        "    ax.add_patch(plt.Rectangle((x0, y0), w, h, edgecolor='green', facecolor=(0,0,0,0), lw=2))"
      ],
      "metadata": {
        "id": "iT83ZUnha0cf"
      },
      "execution_count": null,
      "outputs": []
    },
    {
      "cell_type": "code",
      "source": [
        "image = cv2.imread('images/000001-img.jpg')\n",
        "image = cv2.cvtColor(image, cv2.COLOR_BGR2RGB)\n",
        "#img = cv2.imread('your file name')\n",
        "\n",
        "height = image.shape[0]\n",
        "width = image.shape[1]\n",
        "\n",
        "# Cut the image in half\n",
        "width_cutoff = width // 2\n",
        "s1 = image[:, :width_cutoff]\n",
        "s2 = image[:, width_cutoff:]\n",
        "\n",
        "cv2.imwrite(\"part1.jpg\", s1)\n",
        "cv2.imwrite(\"part2.jpg\", s2)"
      ],
      "metadata": {
        "id": "7PH-iOkBa4Zh"
      },
      "execution_count": null,
      "outputs": []
    },
    {
      "cell_type": "code",
      "source": [
        "original_img = cv2.imread('part1.jpg')\n",
        "#original_img = cv2.cvtColor(original_img, cv2.COLOR_BGR2RGB)\n",
        "recon_img = cv2.imread('part2.jpg')\n",
        "#recon_img = cv2.cvtColor(recon_img, cv2.COLOR_BGR2RGB)"
      ],
      "metadata": {
        "id": "yvBoIfYJa7gJ"
      },
      "execution_count": null,
      "outputs": []
    },
    {
      "cell_type": "code",
      "source": [
        "plt.figure(figsize=(10,10))\n",
        "plt.imshow(original_img)\n",
        "plt.axis('on')\n",
        "plt.show()"
      ],
      "metadata": {
        "id": "ZT9eD-TGbA6W"
      },
      "execution_count": null,
      "outputs": []
    },
    {
      "cell_type": "code",
      "source": [
        "import sys\n",
        "sys.path.append(\"..\")\n",
        "from segment_anything import sam_model_registry, SamPredictor\n",
        "\n",
        "sam_checkpoint = \"sam_vit_h_4b8939.pth\"\n",
        "model_type = \"vit_h\"\n",
        "\n",
        "device = \"cuda\"\n",
        "\n",
        "sam = sam_model_registry[model_type](checkpoint=sam_checkpoint)\n",
        "sam.to(device=device)\n",
        "\n",
        "predictor = SamPredictor(sam)"
      ],
      "metadata": {
        "id": "inG7QP9fbByF"
      },
      "execution_count": null,
      "outputs": []
    },
    {
      "cell_type": "code",
      "source": [
        "predictor.set_image(original_img)\n"
      ],
      "metadata": {
        "id": "_Y_bcA7rbFO2"
      },
      "execution_count": null,
      "outputs": []
    },
    {
      "cell_type": "code",
      "source": [
        "input_point = np.array([[620, 500]])\n",
        "input_label = np.array([1])"
      ],
      "metadata": {
        "id": "oe5qeNd8bIGX"
      },
      "execution_count": null,
      "outputs": []
    },
    {
      "cell_type": "code",
      "source": [
        "plt.figure(figsize=(10,10))\n",
        "plt.imshow(original_img)\n",
        "show_points(input_point, input_label, plt.gca())\n",
        "plt.axis('on')\n",
        "plt.show()"
      ],
      "metadata": {
        "id": "zp4FGoFnbKuA"
      },
      "execution_count": null,
      "outputs": []
    },
    {
      "cell_type": "code",
      "source": [
        "masks, scores, logits = predictor.predict(\n",
        "    point_coords=input_point,\n",
        "    point_labels=input_label,\n",
        "    multimask_output=True,\n",
        ")"
      ],
      "metadata": {
        "id": "CoUmy5XjbNBo"
      },
      "execution_count": null,
      "outputs": []
    },
    {
      "cell_type": "code",
      "source": [
        "masks.shape  # (number_of_masks) x H x W"
      ],
      "metadata": {
        "id": "38mE-fFsbPYk"
      },
      "execution_count": null,
      "outputs": []
    },
    {
      "cell_type": "code",
      "source": [
        "for i, (mask, score) in enumerate(zip(masks, scores)):\n",
        "    plt.figure(figsize=(10,10))\n",
        "    plt.imshow(original_img)\n",
        "    show_mask(mask, plt.gca())\n",
        "    show_points(input_point, input_label, plt.gca())\n",
        "    plt.title(f\"Mask {i+1}, Score: {score:.3f}\", fontsize=18)\n",
        "    plt.axis('off')\n",
        "    plt.show()"
      ],
      "metadata": {
        "id": "1qFPb1lpbSDt"
      },
      "execution_count": null,
      "outputs": []
    },
    {
      "cell_type": "code",
      "source": [
        "input_point = np.array([[1000, 500], [1250, 500], [700, 500]])\n",
        "input_label = np.array([1, 1, 1])\n",
        "\n",
        "mask_input = logits[np.argmax(scores), :, :]  # Choose the model's best mask"
      ],
      "metadata": {
        "id": "KUW0N2WLbUX7"
      },
      "execution_count": null,
      "outputs": []
    },
    {
      "cell_type": "code",
      "source": [
        "masks, _, _ = predictor.predict(\n",
        "    point_coords=input_point,\n",
        "    point_labels=input_label,\n",
        "    mask_input=mask_input[None, :, :],\n",
        "    multimask_output=False,\n",
        ")"
      ],
      "metadata": {
        "id": "xIx7zTcSbYZq"
      },
      "execution_count": null,
      "outputs": []
    },
    {
      "cell_type": "code",
      "source": [
        "masks.shape\n",
        "def masking(image,masks):\n",
        "  h,w,bpp = np.shape(image)\n",
        "  newimage = image.copy()\n",
        "\n",
        "  for py in range(0,h):\n",
        "      for px in range(0,w):\n",
        "#can change the below logic of rgb according to requirements. In this\n",
        "#white background is changed to #e8e8e8  corresponding to 232,232,232\n",
        "#intensity, red color of the image is retained.\n",
        "          if(masks[0][py][px] == False):\n",
        "              newimage[py][px][0]=225\n",
        "              newimage[py][px][1]=225\n",
        "              newimage[py][px][2]=225\n",
        "\n",
        "\n",
        "\n",
        "  newimage=cv2.cvtColor(newimage, cv2.COLOR_BGR2RGB)\n",
        "  return newimage"
      ],
      "metadata": {
        "id": "ev9obrDQba4G"
      },
      "execution_count": null,
      "outputs": []
    },
    {
      "cell_type": "code",
      "source": [
        "img1 = masking(original_img,masks)\n",
        "img2 = masking(recon_img,masks)\n",
        "\n",
        "\n",
        "cv2.imwrite('image15.jpg',img1)\n",
        "cv2.imwrite('image16.jpg',img2)"
      ],
      "metadata": {
        "id": "FHD2HS6JbfKY"
      },
      "execution_count": null,
      "outputs": []
    }
  ]
}